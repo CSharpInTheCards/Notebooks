{
 "cells": [
  {
   "cell_type": "markdown",
   "metadata": {},
   "source": [
    "We've learned a lot about arrays and how to manage the content of an array, but there other types of collections available in .NET for you to use with C#.  In this module, we will learn about a few of those types and show how they can each represent an element of a card game.\n",
    "\n",
    "## Hashtable and SortedList\n",
    "\n",
    "A [Hashtable](https://docs.microsoft.com/dotnet/api/system.collections.hashtable?view=netcore-3.1?WT.mc_id=visualstudio-twitch-jefritz) and [SortedList](https://learn.microsoft.com/en-us/dotnet/api/system.collections.sortedlist) are collections of key/value pairs that contain no duplicate keys. The `Hashtable` is sorted based on the hash hash of the keys and a `SortedList` is sorted based on the key value.\n",
    "\n",
    "Let's put three cards into a SortedList and a Hashtable and see how the're sorted differently.  We'll use a hand with a poker straight flush of 2, 3, 4, 5, and 6 of clubs:"
   ]
  },
  {
   "cell_type": "code",
   "execution_count": null,
   "metadata": {
    "dotnet_interactive": {
     "language": "csharp"
    },
    "polyglot_notebook": {
     "kernelName": "csharp"
    }
   },
   "outputs": [],
   "source": [
    "var deck = new Hashtable();\n",
    "//var deck = new SortedList();\n",
    "deck.Add(\"2C\", \"2C\");\n",
    "deck.Add(\"3C\", \"3C\");\n",
    "deck.Add(\"4C\", \"4C\");\n",
    "deck.Add(\"5C\", \"5C\");\n",
    "deck.Add(\"6C\", \"6C\");\n",
    "\n",
    "display(deck)"
   ]
  },
  {
   "cell_type": "code",
   "execution_count": null,
   "metadata": {
    "dotnet_interactive": {
     "language": "csharp"
    },
    "polyglot_notebook": {
     "kernelName": "csharp"
    }
   },
   "outputs": [],
   "source": [
    "var deck = new SortedList();\n",
    "//var deck = new Hashtable();\n",
    "\n",
    "// These statements add a value to the collection in the form (key, value)\n",
    "deck.Add(\"2C\", \"2C\");\n",
    "deck.Add(\"3C\", \"3C\");\n",
    "deck.Add(\"4C\", \"4C\");\n",
    "deck.Add(\"5C\", \"5C\");\n",
    "deck.Add(\"6C\", \"6C\");\n",
    "\n",
    "var random = new Random();\n",
    "for (var i=0; i<10_000_000; i++) {\n",
    "\tvar rank = random.Next(2, 7);\n",
    "\tvar foundCard = deck[$\"{rank}C\"];\n",
    "}"
   ]
  },
  {
   "cell_type": "code",
   "execution_count": null,
   "metadata": {
    "dotnet_interactive": {
     "language": "csharp"
    },
    "polyglot_notebook": {
     "kernelName": "csharp"
    }
   },
   "outputs": [],
   "source": [
    "//var hand = new SortedList();\n",
    "var hand = new Hashtable();\n",
    "\n",
    "// These statements add a value to the collection in the form (key, value)\n",
    "hand.Add(\"2C\", \"2C\");\n",
    "hand.Add(\"3C\", \"3C\");\n",
    "hand.Add(\"4C\", \"4C\");\n",
    "hand.Add(\"5C\", \"5C\");\n",
    "hand.Add(\"6C\", \"6C\");\n",
    "\n",
    "// Add a duplicate\n",
    "hand.Add(\"2C\", \"7C\");\n"
   ]
  },
  {
   "cell_type": "code",
   "execution_count": null,
   "metadata": {
    "dotnet_interactive": {
     "language": "csharp"
    },
    "polyglot_notebook": {
     "kernelName": "csharp"
    }
   },
   "outputs": [],
   "source": [
    "//var hand = new SortedList();\n",
    "var hand = new Hashtable();\n",
    "\n",
    "// These statements add a value to the collection in the form (key, value)\n",
    "hand.Add(\"2C\", \"2C\");\n",
    "hand.Add(\"3C\", \"3C\");\n",
    "hand.Add(\"4C\", \"4C\");\n",
    "hand.Add(\"5C\", \"5C\");\n",
    "hand.Add(\"6C\", \"6C\");\n",
    "\n",
    "// Remove a card\n",
    "hand.Remove(\"2C\");\n",
    "display(hand);\n"
   ]
  },
  {
   "cell_type": "code",
   "execution_count": null,
   "metadata": {
    "dotnet_interactive": {
     "language": "csharp"
    },
    "polyglot_notebook": {
     "kernelName": "csharp"
    }
   },
   "outputs": [],
   "source": [
    "var myHand = new Queue();\n",
    "myHand.Enqueue(\"2C\");\n",
    "myHand.Enqueue(\"3C\");\n",
    "myHand.Enqueue(\"4C\");\n",
    "\n",
    "myHand"
   ]
  },
  {
   "cell_type": "code",
   "execution_count": null,
   "metadata": {
    "dotnet_interactive": {
     "language": "csharp"
    },
    "polyglot_notebook": {
     "kernelName": "csharp"
    }
   },
   "outputs": [],
   "source": [
    "myHand.Count"
   ]
  },
  {
   "cell_type": "code",
   "execution_count": null,
   "metadata": {
    "dotnet_interactive": {
     "language": "csharp"
    },
    "polyglot_notebook": {
     "kernelName": "csharp"
    }
   },
   "outputs": [],
   "source": [
    "display(myHand.Peek());\n",
    "display(myHand);"
   ]
  },
  {
   "cell_type": "code",
   "execution_count": null,
   "metadata": {
    "dotnet_interactive": {
     "language": "csharp"
    },
    "polyglot_notebook": {
     "kernelName": "csharp"
    }
   },
   "outputs": [],
   "source": [
    "display(myHand.Dequeue());\n",
    "myHand"
   ]
  },
  {
   "cell_type": "code",
   "execution_count": null,
   "metadata": {
    "dotnet_interactive": {
     "language": "csharp"
    },
    "polyglot_notebook": {
     "kernelName": "csharp"
    }
   },
   "outputs": [],
   "source": [
    "var myDeck = new Stack();\n",
    "myDeck.Push(\"AD\");\n",
    "myDeck.Push(\"AS\");\n",
    "myDeck.Push(\"9H\");\n",
    "myDeck.Push(\"9S\");\n",
    "myDeck.Push(\"9C\");\n",
    "\n",
    "myDeck"
   ]
  },
  {
   "cell_type": "code",
   "execution_count": null,
   "metadata": {
    "dotnet_interactive": {
     "language": "csharp"
    },
    "polyglot_notebook": {
     "kernelName": "csharp"
    }
   },
   "outputs": [],
   "source": [
    "display(myDeck.Peek());\n",
    "var thisCard = myDeck.Pop();\n",
    "\n",
    "display(thisCard);\n",
    "display(myDeck);"
   ]
  }
 ],
 "metadata": {
  "kernelspec": {
   "display_name": ".NET (C#)",
   "language": "C#",
   "name": ".net-csharp"
  },
  "language_info": {
   "name": "polyglot-notebook"
  },
  "polyglot_notebook": {
   "kernelInfo": {
    "defaultKernelName": "csharp",
    "items": [
     {
      "aliases": [],
      "languageName": "csharp",
      "name": "csharp"
     }
    ]
   }
  }
 },
 "nbformat": 4,
 "nbformat_minor": 2
}
