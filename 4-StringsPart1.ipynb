{
 "cells": [
  {
   "cell_type": "markdown",
   "metadata": {},
   "source": [
    "# Text and Strings - Part 1\n",
    "\n",
    "Up to this point we've learned about primitive types that are mostly numeric and also the Boolean types of true and false. Let's move forward and get to a real type that everybody needs to use inside their applications, namely strings. Sharp strings are an array a collection of character types. This makes sense when you think about it as a string, a block of text, is just a collection of characters. This means a bunch of different things for us as we look at working with strings to manage and create text content that we want to display on screen whether it's in a Windows application, a website, or even a mobile app for your phone.\n",
    "\n",
    "Strings are in extensive and interesting topic in C# and .NET. This is the first of several parts in which we'll learn about strings, including a more advanced topic very much later in the course.\n",
    "\n",
    "Let's start with the basics and we can declare a string by outlining it with the double quote character `\"` .  If we wanted to declare our players names for a game of cards we could do it with the following syntax:"
   ]
  },
  {
   "cell_type": "code",
   "execution_count": 14,
   "metadata": {
    "dotnet_interactive": {
     "language": "csharp"
    },
    "polyglot_notebook": {
     "kernelName": "csharp"
    }
   },
   "outputs": [
    {
     "data": {
      "text/plain": [
       "Cris"
      ]
     },
     "metadata": {},
     "output_type": "display_data"
    }
   ],
   "source": [
    "string playerOneName = \"Jeff\";\n",
    "string playerTwoName = \"Cris\";\n",
    "\n",
    "display(playerTwoName);"
   ]
  },
  {
   "cell_type": "markdown",
   "metadata": {},
   "source": [
    "\n",
    "Of course as we learned previously we can also use the `var` keyword to declare variables as well. Let's rewrite that last declaration of our players names using the var keyword."
   ]
  },
  {
   "cell_type": "code",
   "execution_count": null,
   "metadata": {
    "dotnet_interactive": {
     "language": "csharp"
    },
    "polyglot_notebook": {
     "kernelName": "csharp"
    }
   },
   "outputs": [],
   "source": [
    "var playerOneName = \"Jeff\";\n",
    "var playerTwoName = \"Cris\";\n",
    "\n",
    "display(playerTwoName);"
   ]
  },
  {
   "cell_type": "markdown",
   "metadata": {},
   "source": [
    "\n",
    "That's simple enough and builds on what we've previously learned. Folks when they work with strings want to combine them or grab parts of strings or look up where values exist inside of strings. Take a look at some of these operations to manage and analyze the content of text content.\n",
    "\n",
    "### Grabbing Part of a String\n",
    "\n",
    "Since the string is just a collection of characters, we can grab individual characters by referencing them with a zero-based index and square brackets `[ ]`  We could define the standard suits in a deck of poker playing cards and grab the first initial of each suit using syntax like this:\n"
   ]
  },
  {
   "cell_type": "code",
   "execution_count": 13,
   "metadata": {
    "dotnet_interactive": {
     "language": "csharp"
    },
    "polyglot_notebook": {
     "kernelName": "csharp"
    }
   },
   "outputs": [],
   "source": [
    "\n",
    "var suit1 = \"Clubs\";\n",
    "var suit2 = \"Diamonds\";\n",
    "var suit3 = \"Hearts\";\n",
    "var suit4 = \"Spades\";\n",
    "\n",
    "var clubsInitial = suit1[0];\n",
    "var diamondsInitial = suit2[0];\n",
    "var heartsInitial = suit3[0];\n",
    "var spadesInitial = suit4[0];"
   ]
  },
  {
   "cell_type": "markdown",
   "metadata": {},
   "source": [
    "\n",
    "We can also use the `Substring` method to isolate and return text from a given position and length inside of a string. Perhaps we want to grab just the first name of this player."
   ]
  },
  {
   "cell_type": "code",
   "execution_count": 11,
   "metadata": {
    "dotnet_interactive": {
     "language": "csharp"
    },
    "polyglot_notebook": {
     "kernelName": "csharp"
    }
   },
   "outputs": [
    {
     "data": {
      "text/plain": [
       "Jeff"
      ]
     },
     "metadata": {},
     "output_type": "display_data"
    }
   ],
   "source": [
    "var playerOne = \"Jeff Fritz\";\n",
    "var playerOneFirstName = playerOne.Substring(0,4);\n",
    "display(playerOneFirstName);"
   ]
  },
  {
   "cell_type": "markdown",
   "metadata": {},
   "source": [
    "\n",
    "`Substring` can also be used to grab from a point in the string through the end by omitting the second argument to the substring method."
   ]
  },
  {
   "cell_type": "code",
   "execution_count": 12,
   "metadata": {
    "dotnet_interactive": {
     "language": "csharp"
    },
    "polyglot_notebook": {
     "kernelName": "csharp"
    }
   },
   "outputs": [
    {
     "data": {
      "text/plain": [
       "Fritz"
      ]
     },
     "metadata": {},
     "output_type": "display_data"
    }
   ],
   "source": [
    "var playerOneLastName = playerOne.Substring(5);\n",
    "display(playerOneLastName);"
   ]
  },
  {
   "cell_type": "markdown",
   "metadata": {},
   "source": [
    "\n",
    "## Analyzing Strings\n",
    "\n",
    "There are a number of methods and properties available that let you inspect a string.  Let's start with the `Length` property:"
   ]
  },
  {
   "cell_type": "code",
   "execution_count": null,
   "metadata": {
    "dotnet_interactive": {
     "language": "csharp"
    },
    "polyglot_notebook": {
     "kernelName": "csharp"
    }
   },
   "outputs": [],
   "source": [
    "var playerOneCards = \"3H4H\";\n",
    "display(playerOneCards.Length);"
   ]
  },
  {
   "cell_type": "markdown",
   "metadata": {},
   "source": [
    "\n",
    "We can also search a string for the position of a character inside the string with the `IndexOf` method:"
   ]
  },
  {
   "cell_type": "code",
   "execution_count": null,
   "metadata": {
    "dotnet_interactive": {
     "language": "csharp"
    },
    "polyglot_notebook": {
     "kernelName": "csharp"
    }
   },
   "outputs": [],
   "source": [
    "var nextHand = '9H9D';\n",
    "display(nextHand.IndexOf('D'));"
   ]
  },
  {
   "cell_type": "markdown",
   "metadata": {},
   "source": [
    "\n",
    "What does `IndexOf` return if it doesn't find the character in the string?"
   ]
  },
  {
   "cell_type": "code",
   "execution_count": 10,
   "metadata": {
    "dotnet_interactive": {
     "language": "csharp"
    },
    "polyglot_notebook": {
     "kernelName": "csharp"
    }
   },
   "outputs": [
    {
     "data": {
      "text/html": [
       "<div class=\"dni-plaintext\"><pre>-1</pre></div><style>\r\n",
       ".dni-code-hint {\r\n",
       "    font-style: italic;\r\n",
       "    overflow: hidden;\r\n",
       "    white-space: nowrap;\r\n",
       "}\r\n",
       ".dni-treeview {\r\n",
       "    white-space: nowrap;\r\n",
       "}\r\n",
       ".dni-treeview td {\r\n",
       "    vertical-align: top;\r\n",
       "    text-align: start;\r\n",
       "}\r\n",
       "details.dni-treeview {\r\n",
       "    padding-left: 1em;\r\n",
       "}\r\n",
       "table td {\r\n",
       "    text-align: start;\r\n",
       "}\r\n",
       "table tr { \r\n",
       "    vertical-align: top; \r\n",
       "    margin: 0em 0px;\r\n",
       "}\r\n",
       "table tr td pre \r\n",
       "{ \r\n",
       "    vertical-align: top !important; \r\n",
       "    margin: 0em 0px !important;\r\n",
       "} \r\n",
       "table th {\r\n",
       "    text-align: start;\r\n",
       "}\r\n",
       "</style>"
      ]
     },
     "metadata": {},
     "output_type": "display_data"
    }
   ],
   "source": [
    "\n",
    "var thirdHand = \"7H8H\";\n",
    "display(thirdHand.IndexOf('D'));"
   ]
  },
  {
   "cell_type": "markdown",
   "metadata": {},
   "source": [
    "\n",
    "## Modifying Strings\n",
    "\n",
    "It's one thing to get a part of a string and work with it, but sometimes we just want to replace parts of the string or even to remove content from the string. Let's take a look at how we can replace content in strings with the `Replace` method.  In this sample, let's replace the space between the player's name with an underscore `_`  character:"
   ]
  },
  {
   "cell_type": "code",
   "execution_count": 9,
   "metadata": {
    "dotnet_interactive": {
     "language": "csharp"
    },
    "polyglot_notebook": {
     "kernelName": "csharp"
    }
   },
   "outputs": [
    {
     "data": {
      "text/plain": [
       "Jeff_Fritz"
      ]
     },
     "metadata": {},
     "output_type": "display_data"
    }
   ],
   "source": [
    "var playerOne = \"Jeff Fritz\";\n",
    "display(playerOne.Replace(' ', '_'));"
   ]
  },
  {
   "cell_type": "markdown",
   "metadata": {},
   "source": [
    "\n",
    "We can also remove characters from within a string variable using the same arguments as we previously did with the `Substring` method.  The `Remove` method removes the characters and returns the string:"
   ]
  },
  {
   "cell_type": "code",
   "execution_count": 8,
   "metadata": {
    "dotnet_interactive": {
     "language": "csharp"
    },
    "polyglot_notebook": {
     "kernelName": "csharp"
    }
   },
   "outputs": [
    {
     "data": {
      "text/plain": [
       "Diamond"
      ]
     },
     "metadata": {},
     "output_type": "display_data"
    },
    {
     "data": {
      "text/plain": [
       "D"
      ]
     },
     "metadata": {},
     "output_type": "display_data"
    },
    {
     "data": {
      "text/plain": [
       "Dis"
      ]
     },
     "metadata": {},
     "output_type": "display_data"
    }
   ],
   "source": [
    "var diamonds = \"Diamonds\";\n",
    "display(diamonds.Remove(7));\n",
    "display(diamonds.Remove(1));\n",
    "display(diamonds.Remove(2,5));"
   ]
  },
  {
   "cell_type": "markdown",
   "metadata": {},
   "source": [
    "\n",
    "Perhaps there are extra spaces or other characters that you'd like to clean up at the beginning or end of a string.  You can use the `Trim`, `TrimStart`, and `TrimEnd` methods to remove these extra characters:"
   ]
  },
  {
   "cell_type": "code",
   "execution_count": 7,
   "metadata": {
    "dotnet_interactive": {
     "language": "csharp"
    },
    "polyglot_notebook": {
     "kernelName": "csharp"
    }
   },
   "outputs": [
    {
     "data": {
      "text/plain": [
       "Clubs "
      ]
     },
     "metadata": {},
     "output_type": "display_data"
    },
    {
     "data": {
      "text/plain": [
       "Clubs"
      ]
     },
     "metadata": {},
     "output_type": "display_data"
    },
    {
     "data": {
      "text/plain": [
       "Club"
      ]
     },
     "metadata": {},
     "output_type": "display_data"
    }
   ],
   "source": [
    "var suits = \"Clubs Diamonds Hearts Spades\";\n",
    "var clubs = suits.Substring(0,6);\n",
    "display(clubs);\n",
    "\n",
    "clubs = clubs.Trim();   // Use Trim with no arguments to remove spaces\n",
    "display(clubs);\n",
    "\n",
    "display(clubs.TrimEnd('s'));"
   ]
  },
  {
   "cell_type": "markdown",
   "metadata": {},
   "source": [
    "\n",
    "## Combining Strings\n",
    "\n",
    "We've looked at analyzing and grabbing various parts of strings but what about combining strings? We started with a full name for a player but what if we have their individual first name and last name and want to combine names? Or maybe we have a collection of card strings that we want to combine together to represent a player's hand. We do that? Let's start with combining a players name using a simple `+` operator"
   ]
  },
  {
   "cell_type": "code",
   "execution_count": 6,
   "metadata": {
    "dotnet_interactive": {
     "language": "csharp"
    },
    "polyglot_notebook": {
     "kernelName": "csharp"
    }
   },
   "outputs": [
    {
     "data": {
      "text/plain": [
       "Jeff Fritz"
      ]
     },
     "metadata": {},
     "output_type": "display_data"
    }
   ],
   "source": [
    "var firstName = \"Jeff\";\n",
    "var lastName = \"Fritz\";\n",
    "\n",
    "display(firstName + ' ' + lastName);"
   ]
  },
  {
   "cell_type": "markdown",
   "metadata": {},
   "source": [
    "\n",
    "Notice that we can insert a character in the middle of the combination of these two strings.  What if instead of inserting a space character, we inserted something else?  What happens then?\n",
    "\n",
    "Let's combine various cards into a larger 'Hand' variable.  We could do that with the `+` operator like this:\n"
   ]
  },
  {
   "cell_type": "code",
   "execution_count": 5,
   "metadata": {
    "dotnet_interactive": {
     "language": "csharp"
    },
    "polyglot_notebook": {
     "kernelName": "csharp"
    }
   },
   "outputs": [
    {
     "data": {
      "text/plain": [
       "2C2D2S"
      ]
     },
     "metadata": {},
     "output_type": "display_data"
    }
   ],
   "source": [
    "var card1 = \"2C\";\n",
    "var card2 = \"2D\";\n",
    "var card3 = \"2S\";\n",
    "var myHand = card1 + card2 + card3;\n",
    "display(myHand);"
   ]
  },
  {
   "cell_type": "markdown",
   "metadata": {},
   "source": [
    "\n",
    "If we have to combine lots of strings, or an unknown number of strings, we can use a more efficient object called a `StringBuilder` to combine those values.  The `StringBuilder` is used like this:"
   ]
  },
  {
   "cell_type": "code",
   "execution_count": 2,
   "metadata": {
    "dotnet_interactive": {
     "language": "csharp"
    },
    "polyglot_notebook": {
     "kernelName": "csharp"
    }
   },
   "outputs": [
    {
     "data": {
      "text/plain": [
       "8C8D8S"
      ]
     },
     "metadata": {},
     "output_type": "display_data"
    }
   ],
   "source": [
    "var myHand = new StringBuilder();\n",
    "var card4 = \"8C\";\n",
    "var card5 = \"8D\";\n",
    "var card6 = \"8S\";\n",
    "myHand.Append(card4);\n",
    "myHand.Append(card5);\n",
    "myHand.Append(card6);\n",
    "display(myHand.ToString());"
   ]
  }
 ],
 "metadata": {
  "kernelspec": {
   "display_name": ".NET (C#)",
   "language": "C#",
   "name": ".net-csharp"
  },
  "language_info": {
   "name": "polyglot-notebook"
  },
  "polyglot_notebook": {
   "kernelInfo": {
    "defaultKernelName": "csharp",
    "items": [
     {
      "aliases": [],
      "languageName": "csharp",
      "name": "csharp"
     }
    ]
   }
  }
 },
 "nbformat": 4,
 "nbformat_minor": 2
}
